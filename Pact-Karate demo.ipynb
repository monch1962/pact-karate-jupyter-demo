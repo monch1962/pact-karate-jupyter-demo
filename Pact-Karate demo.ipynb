{
 "cells": [
  {
   "cell_type": "markdown",
   "metadata": {},
   "source": [
    "# Pact-Karate demo\n",
    "## Setup\n",
    "Build Docker containers for Karate, Pact-to-Karate"
   ]
  },
  {
   "cell_type": "code",
   "execution_count": 14,
   "metadata": {},
   "outputs": [
    {
     "name": "stdout",
     "output_type": "stream",
     "text": [
      "Untagged: karate-docker:latest\n",
      "Deleted: sha256:503b7af0f75ea5d24a90a0711ba3fd981a0f6d66ca3174f12b6a0fd7c74ed0cf\n",
      "Deleted: sha256:26cfdea1ff915f5d22f39432c999993ad0db84873b4b404ccc37543bb7d2036d\n",
      "Deleted: sha256:d6cff3e058edd79a218e617947b14dd5a57a77decdd7dcb18d24ea8abde2311a\n",
      "Sending build context to Docker daemon  26.14MB\n",
      "Step 1/8 : FROM openjdk:12-alpine\n",
      " ---> 0c68e7c5b7a0\n",
      "Step 2/8 : ENV KARATE_VERSION 0.9.4\n",
      " ---> Using cache\n",
      " ---> 1b9d9d557e65\n",
      "Step 3/8 : WORKDIR /\n",
      " ---> Using cache\n",
      " ---> ad0a3db010c7\n",
      "Step 4/8 : RUN wget -O karate.jar https://github.com/intuit/karate/releases/download/v$KARATE_VERSION/karate-$KARATE_VERSION.jar\n",
      " ---> Using cache\n",
      " ---> d4ac2dd36132\n",
      "Step 5/8 : COPY features/ features/\n",
      " ---> Using cache\n",
      " ---> b4e892e16437\n",
      "Step 6/8 : COPY results/ results/\n",
      " ---> a7141b1d438e\n",
      "Step 7/8 : EXPOSE 8999\n",
      " ---> Running in 035bbc1558f8\n",
      "Removing intermediate container 035bbc1558f8\n",
      " ---> 62d9bf25a7b6\n",
      "Step 8/8 : ENTRYPOINT if [ -z \"$MOCK\" ]; then /opt/openjdk-12/bin/java -jar karate.jar -o /results /features/*.feature; else /opt/openjdk-12/bin/java -jar karate.jar -m /features/*mock.feature -p 8999; fi\n",
      " ---> Running in 706c93f462aa\n",
      "Removing intermediate container 706c93f462aa\n",
      " ---> f1c0eca9221e\n",
      "Successfully built f1c0eca9221e\n",
      "Successfully tagged karate-docker:latest\n"
     ]
    }
   ],
   "source": [
    "# Let's start out by building a Docker container image to run Karate\n",
    "!docker rmi --force karate-docker:latest\n",
    "!docker build -t karate-docker ~/Projects/karate-docker/"
   ]
  },
  {
   "cell_type": "code",
   "execution_count": 16,
   "metadata": {},
   "outputs": [
    {
     "name": "stdout",
     "output_type": "stream",
     "text": [
      "Untagged: pact-karate:latest\n",
      "Deleted: sha256:a505b93950fdf6a2972a650ec6977b42fb05f3192e96a31f4b1910fe03b6d475\n",
      "Deleted: sha256:faf8cb12c4365a37c15adf2650acfb2677ed16c5d2be3d714d728a2d2457e7e2\n",
      "Sending build context to Docker daemon  12.29kB\n",
      "Step 1/9 : FROM golang:alpine AS builder\n",
      " ---> d4953956cf1e\n",
      "Step 2/9 : RUN apk update && apk add --no-cache git\n",
      " ---> Using cache\n",
      " ---> d08d5dbfaa5b\n",
      "Step 3/9 : WORKDIR $GOPATH/src/mypackage/myapp/\n",
      " ---> Using cache\n",
      " ---> 83dc5a4d0a0a\n",
      "Step 4/9 : COPY . .\n",
      " ---> Using cache\n",
      " ---> 31c1a23db9dc\n",
      "Step 5/9 : RUN go get -d -v\n",
      " ---> Using cache\n",
      " ---> c5cc7e090372\n",
      "Step 6/9 : RUN CGO_ENABLED=0 GOOS=linux go build -o /go/bin/main\n",
      " ---> Using cache\n",
      " ---> f83f07862abc\n",
      "Step 7/9 : FROM scratch\n",
      " ---> \n",
      "Step 8/9 : COPY --from=builder /go/bin/main /go/bin/main\n",
      " ---> 9e4691667bf6\n",
      "Step 9/9 : ENTRYPOINT [\"/go/bin/main\"]\n",
      " ---> Running in 3b3b4966ef61\n",
      "Removing intermediate container 3b3b4966ef61\n",
      " ---> 98683e77d632\n",
      "Successfully built 98683e77d632\n",
      "Successfully tagged pact-karate:latest\n"
     ]
    }
   ],
   "source": [
    "# Now let's build a Docker container whose sole purpose is to convert Pact contracts into Karate stubs & test cases\n",
    "!docker rmi --force pact-karate:latest\n",
    "!docker build -t pact-karate ~/Projects/pact-to-karate/golang/src"
   ]
  },
  {
   "cell_type": "code",
   "execution_count": 17,
   "metadata": {},
   "outputs": [
    {
     "name": "stdout",
     "output_type": "stream",
     "text": [
      "karate-docker                                      latest              f1c0eca9221e        26 seconds ago      364MB\n",
      "pact-karate                                        latest              98683e77d632        3 seconds ago       2.63MB\n"
     ]
    }
   ],
   "source": [
    "# Note that the pact-karate image is tiny - all it contains is the executable file within a scratch container. \n",
    "# However the karate-docker container requires a full JVM plus the Karate JAR file - it's much larger\n",
    "!docker images | grep karate-docker\n",
    "!docker images | grep pact-karate"
   ]
  },
  {
   "cell_type": "code",
   "execution_count": 4,
   "metadata": {},
   "outputs": [],
   "source": [
    "# Now go to the directory containing some Pact contracts\n",
    "!cd ~/Projects/pact-to-karate/pacts"
   ]
  },
  {
   "cell_type": "code",
   "execution_count": 5,
   "metadata": {},
   "outputs": [
    {
     "name": "stdout",
     "output_type": "stream",
     "text": [
      "\u001b[1;39m{\r\n",
      "  \u001b[0m\u001b[34;1m\"consumer\"\u001b[0m\u001b[1;39m: \u001b[0m\u001b[1;39m{\r\n",
      "    \u001b[0m\u001b[34;1m\"name\"\u001b[0m\u001b[1;39m: \u001b[0m\u001b[0;32m\"billy\"\u001b[0m\u001b[1;39m\r\n",
      "  \u001b[1;39m}\u001b[0m\u001b[1;39m,\r\n",
      "  \u001b[0m\u001b[34;1m\"provider\"\u001b[0m\u001b[1;39m: \u001b[0m\u001b[1;39m{\r\n",
      "    \u001b[0m\u001b[34;1m\"name\"\u001b[0m\u001b[1;39m: \u001b[0m\u001b[0;32m\"bobby\"\u001b[0m\u001b[1;39m\r\n",
      "  \u001b[1;39m}\u001b[0m\u001b[1;39m,\r\n",
      "  \u001b[0m\u001b[34;1m\"interactions\"\u001b[0m\u001b[1;39m: \u001b[0m\u001b[1;39m[\r\n",
      "    \u001b[1;39m{\r\n",
      "      \u001b[0m\u001b[34;1m\"description\"\u001b[0m\u001b[1;39m: \u001b[0m\u001b[0;32m\"My test\"\u001b[0m\u001b[1;39m,\r\n",
      "      \u001b[0m\u001b[34;1m\"providerState\"\u001b[0m\u001b[1;39m: \u001b[0m\u001b[0;32m\"User billy exists\"\u001b[0m\u001b[1;39m,\r\n",
      "      \u001b[0m\u001b[34;1m\"request\"\u001b[0m\u001b[1;39m: \u001b[0m\u001b[1;39m{\r\n",
      "        \u001b[0m\u001b[34;1m\"method\"\u001b[0m\u001b[1;39m: \u001b[0m\u001b[0;32m\"POST\"\u001b[0m\u001b[1;39m,\r\n",
      "        \u001b[0m\u001b[34;1m\"path\"\u001b[0m\u001b[1;39m: \u001b[0m\u001b[0;32m\"/users/login\"\u001b[0m\u001b[1;39m,\r\n",
      "        \u001b[0m\u001b[34;1m\"headers\"\u001b[0m\u001b[1;39m: \u001b[0m\u001b[1;39m{\r\n",
      "          \u001b[0m\u001b[34;1m\"Content-Type\"\u001b[0m\u001b[1;39m: \u001b[0m\u001b[0;32m\"application/json\"\u001b[0m\u001b[1;39m\r\n",
      "        \u001b[1;39m}\u001b[0m\u001b[1;39m,\r\n",
      "        \u001b[0m\u001b[34;1m\"body\"\u001b[0m\u001b[1;39m: \u001b[0m\u001b[1;39m{\r\n",
      "          \u001b[0m\u001b[34;1m\"username\"\u001b[0m\u001b[1;39m: \u001b[0m\u001b[0;32m\"billy\"\u001b[0m\u001b[1;39m,\r\n",
      "          \u001b[0m\u001b[34;1m\"password\"\u001b[0m\u001b[1;39m: \u001b[0m\u001b[0;32m\"issilly\"\u001b[0m\u001b[1;39m\r\n",
      "        \u001b[1;39m}\u001b[0m\u001b[1;39m\r\n",
      "      \u001b[1;39m}\u001b[0m\u001b[1;39m,\r\n",
      "      \u001b[0m\u001b[34;1m\"response\"\u001b[0m\u001b[1;39m: \u001b[0m\u001b[1;39m{\r\n",
      "        \u001b[0m\u001b[34;1m\"status\"\u001b[0m\u001b[1;39m: \u001b[0m\u001b[0;39m200\u001b[0m\u001b[1;39m\r\n",
      "      \u001b[1;39m}\u001b[0m\u001b[1;39m\r\n",
      "    \u001b[1;39m}\u001b[0m\u001b[1;39m\r\n",
      "  \u001b[1;39m]\u001b[0m\u001b[1;39m,\r\n",
      "  \u001b[0m\u001b[34;1m\"metadata\"\u001b[0m\u001b[1;39m: \u001b[0m\u001b[1;39m{\r\n",
      "    \u001b[0m\u001b[34;1m\"pactSpecification\"\u001b[0m\u001b[1;39m: \u001b[0m\u001b[1;39m{\r\n",
      "      \u001b[0m\u001b[34;1m\"version\"\u001b[0m\u001b[1;39m: \u001b[0m\u001b[0;32m\"2.0.0\"\u001b[0m\u001b[1;39m\r\n",
      "    \u001b[1;39m}\u001b[0m\u001b[1;39m\r\n",
      "  \u001b[1;39m}\u001b[0m\u001b[1;39m\r\n",
      "\u001b[1;39m}\u001b[0m\r\n"
     ]
    }
   ],
   "source": [
    "# Starting from a Pact JSON file, we're going to generate a set of Karate stubs & test cases\n",
    "!cat ~/Projects/pact-to-karate/pacts/sample-pact-v2.json | jq '.'"
   ]
  },
  {
   "cell_type": "code",
   "execution_count": 6,
   "metadata": {},
   "outputs": [
    {
     "name": "stdout",
     "output_type": "stream",
     "text": [
      "\u001b[1;39m{\r\n",
      "  \u001b[0m\u001b[34;1m\"consumer\"\u001b[0m\u001b[1;39m: \u001b[0m\u001b[1;39m{\r\n",
      "    \u001b[0m\u001b[34;1m\"name\"\u001b[0m\u001b[1;39m: \u001b[0m\u001b[0;32m\"billy\"\u001b[0m\u001b[1;39m\r\n",
      "  \u001b[1;39m}\u001b[0m\u001b[1;39m,\r\n",
      "  \u001b[0m\u001b[34;1m\"provider\"\u001b[0m\u001b[1;39m: \u001b[0m\u001b[1;39m{\r\n",
      "    \u001b[0m\u001b[34;1m\"name\"\u001b[0m\u001b[1;39m: \u001b[0m\u001b[0;32m\"bobby\"\u001b[0m\u001b[1;39m\r\n",
      "  \u001b[1;39m}\u001b[0m\u001b[1;39m,\r\n",
      "  \u001b[0m\u001b[34;1m\"interactions\"\u001b[0m\u001b[1;39m: \u001b[0m\u001b[1;39m[\r\n",
      "    \u001b[1;39m{\r\n",
      "      \u001b[0m\u001b[34;1m\"description\"\u001b[0m\u001b[1;39m: \u001b[0m\u001b[0;32m\"My test\"\u001b[0m\u001b[1;39m,\r\n",
      "      \u001b[0m\u001b[34;1m\"providerState\"\u001b[0m\u001b[1;39m: \u001b[0m\u001b[0;32m\"User billy exists\"\u001b[0m\u001b[1;39m,\r\n",
      "      \u001b[0m\u001b[34;1m\"request\"\u001b[0m\u001b[1;39m: \u001b[0m\u001b[1;39m{\r\n",
      "        \u001b[0m\u001b[34;1m\"method\"\u001b[0m\u001b[1;39m: \u001b[0m\u001b[0;32m\"POST\"\u001b[0m\u001b[1;39m,\r\n",
      "        \u001b[0m\u001b[34;1m\"path\"\u001b[0m\u001b[1;39m: \u001b[0m\u001b[0;32m\"http://localhost:8080/users/login\"\u001b[0m\u001b[1;39m,\r\n",
      "        \u001b[0m\u001b[34;1m\"headers\"\u001b[0m\u001b[1;39m: \u001b[0m\u001b[1;39m{\r\n",
      "          \u001b[0m\u001b[34;1m\"Content-Type\"\u001b[0m\u001b[1;39m: \u001b[0m\u001b[0;32m\"application/json\"\u001b[0m\u001b[1;39m\r\n",
      "        \u001b[1;39m}\u001b[0m\u001b[1;39m,\r\n",
      "        \u001b[0m\u001b[34;1m\"body\"\u001b[0m\u001b[1;39m: \u001b[0m\u001b[1;39m{\r\n",
      "          \u001b[0m\u001b[34;1m\"username\"\u001b[0m\u001b[1;39m: \u001b[0m\u001b[0;32m\"billy\"\u001b[0m\u001b[1;39m,\r\n",
      "          \u001b[0m\u001b[34;1m\"password\"\u001b[0m\u001b[1;39m: \u001b[0m\u001b[0;32m\"issilly\"\u001b[0m\u001b[1;39m\r\n",
      "        \u001b[1;39m}\u001b[0m\u001b[1;39m\r\n",
      "      \u001b[1;39m}\u001b[0m\u001b[1;39m,\r\n",
      "      \u001b[0m\u001b[34;1m\"response\"\u001b[0m\u001b[1;39m: \u001b[0m\u001b[1;39m{\r\n",
      "        \u001b[0m\u001b[34;1m\"status\"\u001b[0m\u001b[1;39m: \u001b[0m\u001b[0;39m200\u001b[0m\u001b[1;39m\r\n",
      "      \u001b[1;39m}\u001b[0m\u001b[1;39m\r\n",
      "    \u001b[1;39m}\u001b[0m\u001b[1;39m\r\n",
      "  \u001b[1;39m]\u001b[0m\u001b[1;39m,\r\n",
      "  \u001b[0m\u001b[34;1m\"metadata\"\u001b[0m\u001b[1;39m: \u001b[0m\u001b[1;39m{\r\n",
      "    \u001b[0m\u001b[34;1m\"pactSpecification\"\u001b[0m\u001b[1;39m: \u001b[0m\u001b[1;39m{\r\n",
      "      \u001b[0m\u001b[34;1m\"version\"\u001b[0m\u001b[1;39m: \u001b[0m\u001b[0;32m\"2.0.0\"\u001b[0m\u001b[1;39m\r\n",
      "    \u001b[1;39m}\u001b[0m\u001b[1;39m\r\n",
      "  \u001b[1;39m}\u001b[0m\u001b[1;39m\r\n",
      "\u001b[1;39m}\u001b[0m\r\n"
     ]
    }
   ],
   "source": [
    "# Note that the .interactions[].request.path has no server name - we'll have to prepend our stub's address to it when we generate test cases\n",
    "!cat ~/Projects/pact-to-karate/pacts/sample-pact-v2.json | \\\n",
    "    jq '.interactions[].request.path = \"http://localhost:8080\\(.interactions[].request.path)\"'"
   ]
  },
  {
   "cell_type": "code",
   "execution_count": 7,
   "metadata": {},
   "outputs": [
    {
     "name": "stdout",
     "output_type": "stream",
     "text": [
      "Feature: Provider 'bobby' responding to consumer 'billy'\r\n",
      "\r\n",
      "Background:\r\n",
      "  * configure cors = true\r\n",
      "\r\n",
      "# My test\r\n",
      "Scenario: pathMatches('/users/login') && methodIs('POST') && headerContains('Content-Type', 'application/json') && request[\"username\"] == \"billy\" && request[\"password\"] == \"issilly\"\r\n",
      "\r\n",
      "    * def responseStatus = 200\r\n",
      "\r\n",
      "# No match found - default scenario is to return a 404\r\n",
      "Scenario:\r\n",
      "    * def responseStatus = 404\r\n"
     ]
    }
   ],
   "source": [
    "# Now we're going to generate a stub from that Pact contract, save it to a file, then print the file\n",
    "!cat ~/Projects/pact-to-karate/pacts/sample-pact-v2.json \\\n",
    "  | docker run -e STUBS=1 -i pact-karate:latest > /tmp/karate.stub.mock.feature\n",
    "!cat /tmp/karate.stub.mock.feature"
   ]
  },
  {
   "cell_type": "code",
   "execution_count": 8,
   "metadata": {},
   "outputs": [
    {
     "name": "stdout",
     "output_type": "stream",
     "text": [
      "Feature: Consumer 'billy' sending requests to provider 'bobby'\r\n",
      "\r\n",
      "  Scenario: My test\r\n",
      "    Given URL 'http://localhost:8080/users/login'\r\n",
      "    And request {\"password\":\"issilly\",\"username\":\"billy\"}\r\n",
      "    * def reqHeaders = {\"Content-Type\":\"application/json\"}\r\n",
      "    * headers reqHeaders\r\n",
      "    When method POST\r\n",
      "    Then status 200\r\n"
     ]
    }
   ],
   "source": [
    "# Now do the same, but generate Karate test cases instead of stubs\n",
    "!cat ~/Projects/pact-to-karate/pacts/sample-pact-v2.json | \\\n",
    "    jq '.interactions[].request.path = \"http://localhost:8080\\(.interactions[].request.path)\"'| \\\n",
    "    docker run -e TESTS=1 -i pact-karate:latest > /tmp/karate.tests.feature\n",
    "!cat /tmp/karate.tests.feature"
   ]
  },
  {
   "cell_type": "code",
   "execution_count": 9,
   "metadata": {},
   "outputs": [
    {
     "name": "stdout",
     "output_type": "stream",
     "text": [
      "WARNING: Published ports are discarded when using host network mode\n",
      "07:41:44.427 [main] INFO  com.intuit.karate.Main - Karate version: 0.9.4\n",
      "Warning: Nashorn engine is planned to be removed from a future JDK release\n",
      "07:41:45.433 [ForkJoinPool-1-worker-3] WARN  com.intuit.karate - skipping bootstrap configuration: could not find or read file: classpath:karate-config.js\n",
      "07:41:45.487 [ForkJoinPool-1-worker-3] WARN  com.intuit.karate - skipping bootstrap configuration: could not find or read file: classpath:karate-config.js\n",
      "07:41:45.676 [pool-1-thread-1] INFO  com.intuit.karate.Runner - <<pass>> feature 1 of 1: features/karate.stub.mock.feature\n",
      "---------------------------------------------------------\n",
      "feature: features/karate.stub.mock.feature\n",
      "report: target/surefire-reports/features.karate.stub.mock.json\n",
      "scenarios:  2 | passed:  2 | failed:  0 | time: 0.0274\n",
      "---------------------------------------------------------\n",
      "Karate version: 0.9.4\n",
      "======================================================\n",
      "elapsed:   1.14 | threads:    1 | thread time: 0.03 \n",
      "features:     1 | ignored:    0 | efficiency: 0.02\n",
      "scenarios:    2 | passed:     2 | failed: 0\n",
      "======================================================\n",
      "\n"
     ]
    }
   ],
   "source": [
    "# Now let's fire up the stub inside a Karate Docker container\n",
    "!docker run -e MOCK=1 -v \"/tmp:/features\" --network=\"host\" -p 8999:8080 karate-docker:latest"
   ]
  },
  {
   "cell_type": "code",
   "execution_count": 10,
   "metadata": {},
   "outputs": [
    {
     "name": "stdout",
     "output_type": "stream",
     "text": [
      "07:41:50.711 [main] INFO  com.intuit.karate.Main - Karate version: 0.9.4\n",
      "Warning: Nashorn engine is planned to be removed from a future JDK release\n",
      "07:41:51.761 [ForkJoinPool-1-worker-3] WARN  com.intuit.karate - skipping bootstrap configuration: could not find or read file: classpath:karate-config.js\n",
      "07:41:51.804 [ForkJoinPool-1-worker-3] WARN  com.intuit.karate - skipping bootstrap configuration: could not find or read file: classpath:karate-config.js\n",
      "07:41:51.978 [pool-1-thread-1] INFO  com.intuit.karate.Runner - <<pass>> feature 1 of 4: features/karate-stub.mock.feature\n",
      "---------------------------------------------------------\n",
      "feature: features/karate-stub.mock.feature\n",
      "report: /results/surefire-reports/features.karate-stub.mock.json\n",
      "scenarios:  2 | passed:  2 | failed:  0 | time: 0.0172\n",
      "---------------------------------------------------------\n",
      "07:41:51.996 [ForkJoinPool-1-worker-3] WARN  com.intuit.karate - skipping bootstrap configuration: could not find or read file: classpath:karate-config.js\n",
      "07:41:52.024 [pool-1-thread-1] INFO  com.intuit.karate.Runner - <<fail>> feature 2 of 4: features/karate-tests.feature\n",
      "---------------------------------------------------------\n",
      "feature: features/karate-tests.feature\n",
      "report: /results/surefire-reports/features.karate-tests.json\n",
      "scenarios:  1 | passed:  0 | failed:  1 | time: 0.0000\n",
      "---------------------------------------------------------\n",
      "07:41:52.050 [ForkJoinPool-1-worker-3] WARN  com.intuit.karate - skipping bootstrap configuration: could not find or read file: classpath:karate-config.js\n",
      "07:41:52.072 [ForkJoinPool-1-worker-3] WARN  com.intuit.karate - skipping bootstrap configuration: could not find or read file: classpath:karate-config.js\n",
      "07:41:52.089 [pool-1-thread-1] INFO  com.intuit.karate.Runner - <<pass>> feature 3 of 4: features/karate.stub.mock.feature\n",
      "---------------------------------------------------------\n",
      "feature: features/karate.stub.mock.feature\n",
      "report: /results/surefire-reports/features.karate.stub.mock.json\n",
      "scenarios:  2 | passed:  2 | failed:  0 | time: 0.0011\n",
      "---------------------------------------------------------\n",
      "07:41:52.104 [ForkJoinPool-1-worker-3] WARN  com.intuit.karate - skipping bootstrap configuration: could not find or read file: classpath:karate-config.js\n",
      "07:41:52.118 [pool-1-thread-1] INFO  com.intuit.karate.Runner - <<fail>> feature 4 of 4: features/karate.tests.feature\n",
      "---------------------------------------------------------\n",
      "feature: features/karate.tests.feature\n",
      "report: /results/surefire-reports/features.karate.tests.json\n",
      "scenarios:  1 | passed:  0 | failed:  1 | time: 0.0000\n",
      "---------------------------------------------------------\n",
      "Karate version: 0.9.4\n",
      "======================================================\n",
      "elapsed:   1.28 | threads:    1 | thread time: 0.02 \n",
      "features:     4 | ignored:    0 | efficiency: 0.01\n",
      "scenarios:    6 | passed:     4 | failed: 2\n",
      "======================================================\n",
      "failed features:\n",
      "features.karate-tests: karate-tests.feature:4 - no step-definition method match found for: URL '/users/login'\n",
      "features.karate.tests: karate.tests.feature:4 - no step-definition method match found for: URL 'http://localhost:8080/users/login'\n",
      "\n",
      "Exception in thread \"main\" picocli.CommandLine$ExecutionException: there are test failures\n",
      "\tat com.intuit.karate.Main$1.handleExecutionException(Main.java:133)\n",
      "\tat picocli.CommandLine.parseWithHandlers(CommandLine.java:1157)\n",
      "\tat com.intuit.karate.Main.main(Main.java:139)\n"
     ]
    }
   ],
   "source": [
    "!docker run -v \"/tmp:/features\" -v \"$(pwd)/results:/results\" --network=\"host\" karate-docker:latest"
   ]
  },
  {
   "cell_type": "code",
   "execution_count": 11,
   "metadata": {},
   "outputs": [
    {
     "name": "stdout",
     "output_type": "stream",
     "text": [
      "\u001b[1;39m{\r\n",
      "  \u001b[0m\u001b[34;1m\"features\"\u001b[0m\u001b[1;39m: \u001b[0m\u001b[0;39m4\u001b[0m\u001b[1;39m,\r\n",
      "  \u001b[0m\u001b[34;1m\"ignored\"\u001b[0m\u001b[1;39m: \u001b[0m\u001b[0;39m0\u001b[0m\u001b[1;39m,\r\n",
      "  \u001b[0m\u001b[34;1m\"efficiency\"\u001b[0m\u001b[1;39m: \u001b[0m\u001b[0;39m0.014350548589341695\u001b[0m\u001b[1;39m,\r\n",
      "  \u001b[0m\u001b[34;1m\"failures\"\u001b[0m\u001b[1;39m: \u001b[0m\u001b[1;39m{\r\n",
      "    \u001b[0m\u001b[34;1m\"features.karate-tests\"\u001b[0m\u001b[1;39m: \u001b[0m\u001b[0;32m\"karate-tests.feature:4 - no step-definition method match found for: URL '/users/login'\"\u001b[0m\u001b[1;39m,\r\n",
      "    \u001b[0m\u001b[34;1m\"features.karate.tests\"\u001b[0m\u001b[1;39m: \u001b[0m\u001b[0;32m\"karate.tests.feature:4 - no step-definition method match found for: URL 'http://localhost:8080/users/login'\"\u001b[0m\u001b[1;39m\r\n",
      "  \u001b[1;39m}\u001b[0m\u001b[1;39m,\r\n",
      "  \u001b[0m\u001b[34;1m\"totalTime\"\u001b[0m\u001b[1;39m: \u001b[0m\u001b[0;39m18.311300000000003\u001b[0m\u001b[1;39m,\r\n",
      "  \u001b[0m\u001b[34;1m\"threads\"\u001b[0m\u001b[1;39m: \u001b[0m\u001b[0;39m1\u001b[0m\u001b[1;39m,\r\n",
      "  \u001b[0m\u001b[34;1m\"scenarios\"\u001b[0m\u001b[1;39m: \u001b[0m\u001b[0;39m6\u001b[0m\u001b[1;39m,\r\n",
      "  \u001b[0m\u001b[34;1m\"failed\"\u001b[0m\u001b[1;39m: \u001b[0m\u001b[0;39m2\u001b[0m\u001b[1;39m,\r\n",
      "  \u001b[0m\u001b[34;1m\"passed\"\u001b[0m\u001b[1;39m: \u001b[0m\u001b[0;39m4\u001b[0m\u001b[1;39m,\r\n",
      "  \u001b[0m\u001b[34;1m\"version\"\u001b[0m\u001b[1;39m: \u001b[0m\u001b[0;32m\"0.9.4\"\u001b[0m\u001b[1;39m,\r\n",
      "  \u001b[0m\u001b[34;1m\"elapsedTime\"\u001b[0m\u001b[1;39m: \u001b[0m\u001b[0;39m1276\u001b[0m\u001b[1;39m\r\n",
      "\u001b[1;39m}\u001b[0m\r\n"
     ]
    }
   ],
   "source": [
    "# Now we can view the test results, which means that CI can pick them apart and \n",
    "# work out how to proceed based on whether all tests passed or not\n",
    "!cat results/surefire-reports/results-json.txt | jq '.'"
   ]
  },
  {
   "cell_type": "code",
   "execution_count": null,
   "metadata": {},
   "outputs": [],
   "source": [
    "!cat ~/Projects/pact-to-karate/pacts/sample-pact-v2.json | jq '.interactions[].request.path = \"http://localhost:8080\\(.interactions[].request.path)\"'"
   ]
  },
  {
   "cell_type": "code",
   "execution_count": null,
   "metadata": {},
   "outputs": [],
   "source": []
  }
 ],
 "metadata": {
  "kernelspec": {
   "display_name": "Python 3",
   "language": "python",
   "name": "python3"
  },
  "language_info": {
   "codemirror_mode": {
    "name": "ipython",
    "version": 3
   },
   "file_extension": ".py",
   "mimetype": "text/x-python",
   "name": "python",
   "nbconvert_exporter": "python",
   "pygments_lexer": "ipython3",
   "version": "3.7.0"
  }
 },
 "nbformat": 4,
 "nbformat_minor": 2
}
